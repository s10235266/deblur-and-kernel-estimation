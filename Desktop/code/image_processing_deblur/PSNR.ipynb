{
 "cells": [
  {
   "cell_type": "code",
   "execution_count": 1,
   "metadata": {},
   "outputs": [],
   "source": [
    "import numpy as np\n",
    "from skimage.io import imread\n",
    "import tensorflow as tf"
   ]
  },
  {
   "cell_type": "markdown",
   "metadata": {},
   "source": [
    "### input1"
   ]
  },
  {
   "cell_type": "code",
   "execution_count": 27,
   "metadata": {},
   "outputs": [
    {
     "name": "stdout",
     "output_type": "stream",
     "text": [
      "input1  PSNR= 21.630611\n",
      "output1  PSNR= 22.64929\n"
     ]
    }
   ],
   "source": [
    "img1=imread(\"input1.bmp\")\n",
    "ori_img1=imread(\"input1_ori.bmp\")\n",
    "out_img1=imread(\"output1.bmp\")\n",
    "input1_psnr=np.array(tf.image.psnr(img1,ori_img1,max_val =255))\n",
    "print(\"input1  PSNR=\",input1_psnr)\n",
    "output1_psnr=np.array(tf.image.psnr(out_img1,ori_img1,max_val =255))\n",
    "print(\"output1  PSNR=\",output1_psnr)"
   ]
  },
  {
   "cell_type": "markdown",
   "metadata": {},
   "source": [
    "### input2.bmp"
   ]
  },
  {
   "cell_type": "code",
   "execution_count": null,
   "metadata": {},
   "outputs": [],
   "source": [
    "img2=imread(\"input2.bmp\")\n",
    "ori_img2=imread(\"input2_ori.bmp\")\n",
    "out_img2=imread(\"output2.bmp\")\n",
    "input2_psnr=np.array(tf.image.psnr(img2,ori_img2,max_val =255))\n",
    "print(\"input2  PSNR=\",input2_psnr)\n",
    "output2_psnr=np.array(tf.image.psnr(out_img2,ori_img2,max_val =255))\n",
    "print(\"output2  PSNR=\",output2_psnr)"
   ]
  },
  {
   "cell_type": "markdown",
   "metadata": {},
   "source": [
    "### input3"
   ]
  },
  {
   "cell_type": "code",
   "execution_count": 29,
   "metadata": {},
   "outputs": [
    {
     "name": "stdout",
     "output_type": "stream",
     "text": [
      "input3  PSNR= 19.595556\n",
      "output3  PSNR= 22.326756\n"
     ]
    }
   ],
   "source": [
    "img3=imread(\"input3.bmp\")\n",
    "ori_img3=imread(\"input3_ori.bmp\")\n",
    "out_img3=imread(\"output3.bmp\")\n",
    "input3_psnr=np.array(tf.image.psnr(img3,ori_img3,max_val =255))\n",
    "print(\"input3  PSNR=\",input3_psnr)\n",
    "output3_psnr=np.array(tf.image.psnr(out_img3,ori_img3,max_val =255))\n",
    "print(\"output3  PSNR=\",output3_psnr)"
   ]
  }
 ],
 "metadata": {
  "interpreter": {
   "hash": "31d07e0f11afdd229452435d699151d392009b7e876b338c901387474eb8ce5b"
  },
  "kernelspec": {
   "display_name": "Python 3.7.4 64-bit",
   "language": "python",
   "name": "python3"
  },
  "language_info": {
   "codemirror_mode": {
    "name": "ipython",
    "version": 3
   },
   "file_extension": ".py",
   "mimetype": "text/x-python",
   "name": "python",
   "nbconvert_exporter": "python",
   "pygments_lexer": "ipython3",
   "version": "3.7.4"
  },
  "orig_nbformat": 4
 },
 "nbformat": 4,
 "nbformat_minor": 2
}
